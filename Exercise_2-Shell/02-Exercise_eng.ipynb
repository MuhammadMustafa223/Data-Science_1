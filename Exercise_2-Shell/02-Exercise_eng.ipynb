{
 "cells": [
  {
   "attachments": {},
   "cell_type": "markdown",
   "id": "93cff492-b993-4b0d-a70b-13c52a25a17f",
   "metadata": {},
   "source": [
    "## Exercise 2\n",
    "\n",
    "#### **Submission** <br> May 19th 12:00 p.m. (via studIP)\n",
    "#### **Defense** <br> 22.05. 08:00-10:00, 22.05 16:00-18:00 or 23.05 10:00-12:00\n",
    "\n",
    "A **maximum** of 3 percentage points bonus for the exam can be achieved with each sheet if:\n",
    "1) at least 60% of the worksheet has been completed correctly \n",
    "2) the worksheet has been successfully defended (explained to the tutors).\n",
    "\n",
    "*Conditions*:\n",
    "- Each group must register for a slot in studIP for the defense. Only ONE person registers a slot. The whole group must appear for defense.\n",
    "- Successful defense means that a team member selected by us explains the solution and answers questions about it.\n",
    "- ChatGPT and other tools may be used, but must be cited.\n",
    "- The code must be explained without any aids.\n",
    "- We will not only evaluate the correctness of the results, but also whether the code is efficient, easy to understand, tidy and well documented.\n",
    "- Each group submits only one solution as a zip file, which is provided with the name and student number of a group member. For example, `mustermann_12345678.zip`.\n",
    "- Please also enter the names and student numbers of all group members here:\n",
    "  - [name member 1] [student number member 1]\n",
    "  - [name member 2] [student number member 2]\n",
    "  - [name member 3] [student number member 3]"
   ]
  },
  {
   "cell_type": "markdown",
   "id": "6a89ae56-4d82-4486-ab4d-053c537e614d",
   "metadata": {},
   "source": [
    "Install (if not present) the bash kernel by: `pip install bash_kernel ; python -m bash_kernel.install`"
   ]
  },
  {
   "cell_type": "code",
   "execution_count": null,
   "id": "9f93e1ae",
   "metadata": {},
   "outputs": [],
   "source": []
  },
  {
   "cell_type": "markdown",
   "id": "88a1ce2f-002b-4808-980f-b820ae4880c7",
   "metadata": {},
   "source": [
    "_________"
   ]
  },
  {
   "cell_type": "markdown",
   "id": "9ff8bfe9-f1a8-474f-8f6c-c9d78269b08e",
   "metadata": {},
   "source": [
    "In this task, the goal is to edit a text using individual short scripts so that it is then easier to use (e.g. for data science applications)"
   ]
  },
  {
   "cell_type": "markdown",
   "id": "bdb4b2f2-fa60-40ae-a990-a1bc1fd35ded",
   "metadata": {},
   "source": [
    "The text we will work on below is the German Constitution."
   ]
  },
  {
   "cell_type": "markdown",
   "id": "62dd260d-5f9e-4479-b600-148d24122dd3",
   "metadata": {},
   "source": [
    "### 1 a)  [2,5%]"
   ]
  },
  {
   "cell_type": "markdown",
   "id": "a70f8b74-7a10-4887-b598-4976c2d072e8",
   "metadata": {},
   "source": [
    "Create a new folder and download the text which you can find at the following address: https://raw.githubusercontent.com/levinalex/deutsche_verfassungen/master/grundgesetz/grundgesetz.txt"
   ]
  },
  {
   "cell_type": "code",
   "execution_count": 1,
   "id": "004d6486",
   "metadata": {},
   "outputs": [
    {
     "name": "stdout",
     "output_type": "stream",
     "text": [
      "File downloaded and saved as grundgesetz.txt\n"
     ]
    }
   ],
   "source": [
    "import requests\n",
    "\n",
    "url = \"https://raw.githubusercontent.com/levinalex/deutsche_verfassungen/master/grundgesetz/grundgesetz.txt\"\n",
    "response = requests.get(url)\n",
    "\n",
    "with open(\"grundgesetz.txt\", \"w\", encoding=\"utf-8\") as file:\n",
    "    file.write(response.text)\n",
    "\n",
    "print(\"File downloaded and saved as grundgesetz.txt\")\n"
   ]
  },
  {
   "cell_type": "code",
   "execution_count": 2,
   "id": "752de162",
   "metadata": {},
   "outputs": [
    {
     "name": "stdout",
     "output_type": "stream",
     "text": [
      "Grundgesetz für die Bundesrepublik Deutschland\n",
      "\n",
      "Vom 23. Mai 1949 (BGBl. S. 1)\n",
      "\n",
      "Zuletzt geändert durch das Gesetz zur Änderung des Grundgesetzes (Artikel 96) vom 26. 7. 2002 (BGBl. I S. 2863)\n",
      "\n",
      "\n",
      "\n",
      "\n",
      "\n",
      "\n",
      "\n",
      "Der Parlamentarische Rat hat am 23. Mai 1949 in Bonn am Rhein in öffentlicher Sitzung festgestellt, daß das am 8. Mai des Jahres 1949 vom Parlamentarischen Rat beschlossene Grundgesetz für die Bundesrepublik Deutschland in der Woche vom 16. bis 22. Mai 1949 durch die Volksvertretungen von mehr als zwe\n"
     ]
    }
   ],
   "source": [
    "# Open and read the file\n",
    "with open(\"grundgesetz.txt\", \"r\", encoding=\"utf-8\") as file:\n",
    "    content = file.read()\n",
    "\n",
    "# Print the first 500 characters\n",
    "print(content[:500])\n"
   ]
  },
  {
   "attachments": {},
   "cell_type": "markdown",
   "id": "c944b26c-796f-4640-ab5b-b1d26e39d41e",
   "metadata": {},
   "source": [
    "## 1 b) [10%]\n",
    "The text has a clear structure. But at the beginning there is a piece of text that doesn't fit into this structure. Write a one-liner that deletes everything from the text before listing the articles (and chapters). Save the output to a new file.\n",
    "Make sure your script works even if the text changes at the start!"
   ]
  },
  {
   "cell_type": "code",
   "execution_count": 2,
   "id": "4c9cac63-469a-40a5-8ada-2664de253886",
   "metadata": {},
   "outputs": [],
   "source": [
    "with open(\"grundgesetz.txt\", \"r\", encoding=\"utf-8\") as f:\n",
    "    text = f.read()\n",
    "\n",
    "cleaned_text = \"Artikel 1\" + text.split(\"Artikel 1\", 1)[-1]\n",
    "\n",
    "with open(\"grundgesetz_cleaned.txt\", \"w\", encoding=\"utf-8\") as f:\n",
    "    f.write(cleaned_text)\n"
   ]
  },
  {
   "attachments": {},
   "cell_type": "markdown",
   "id": "cea6b9eb-4e7a-4819-84be-5ee6cb9e3ccc",
   "metadata": {},
   "source": [
    "## 1 c) [10%]\n",
    "Split the text into individual files based on the chapters (e.g. \"I The Fundamental Rights\") and number the files."
   ]
  },
  {
   "attachments": {},
   "cell_type": "markdown",
   "id": "9062180c-82cf-427a-b0a8-7db677df12ac",
   "metadata": {},
   "source": [
    "### 1 d) [30%]\n",
    "Split each chapter into individual articles. Each article should be in its own file with the article number as the file name. Create a new subfolder for each chapter to collect the articles."
   ]
  },
  {
   "cell_type": "code",
   "execution_count": 1,
   "id": "8889932d-5312-4833-9906-f73d4ff6da3f",
   "metadata": {},
   "outputs": [
    {
     "name": "stdout",
     "output_type": "stream",
     "text": [
      "Saved: 01_Die_Grundrechte.txt\n",
      "Saved: 02_Der_Bund_und_die_Länder.txt\n",
      "Saved: 03_Der_Bundestag.txt\n",
      "Saved: 04_Der_Bundesrat.txt\n",
      "Saved: 05_Der_Bundespräsident.txt\n",
      "Saved: 06_Die_Bundesregierung.txt\n",
      "Saved: 07_Die_Gesetzgebung_des_Bundes.txt\n",
      "Saved: 08_Ausführung_der_Bundesgesetze_und_die_Bundesverwaltung.txt\n",
      "Saved: 09_Rechtsprechung.txt\n",
      "Saved: 10_Das_Finanzwesen.txt\n",
      "Saved: 11_Übergangs-_und_Schlußbestimmungen.txt\n"
     ]
    }
   ],
   "source": [
    "import re\n",
    "\n",
    "# Load the cleaned Grundgesetz text\n",
    "with open(\"grundgesetz_cleaned.txt\", \"r\", encoding=\"utf-8\") as f:\n",
    "    text = f.read()\n",
    "\n",
    "# Regex to match chapter headers like \"I Die Grundrechte\", \"II Der Bund\", etc.\n",
    "chapter_pattern = re.compile(r'\\n([IVXLCDM]+)\\s+([A-ZÄÖÜ][^\\n]+)')\n",
    "\n",
    "# Find chapter starts\n",
    "matches = list(chapter_pattern.finditer(text))\n",
    "\n",
    "# Loop through matches and split the text\n",
    "for i, match in enumerate(matches):\n",
    "    chapter_num = match.group(1)\n",
    "    chapter_title = match.group(2).strip().replace(\" \", \"_\")\n",
    "    \n",
    "    start = match.start()\n",
    "    end = matches[i + 1].start() if i + 1 < len(matches) else len(text)\n",
    "    \n",
    "    chapter_text = text[start:end].strip()\n",
    "    \n",
    "    filename = f\"{i+1:02d}_{chapter_title}.txt\"\n",
    "    \n",
    "    with open(filename, \"w\", encoding=\"utf-8\") as f_out:\n",
    "        f_out.write(chapter_text)\n",
    "\n",
    "    print(f\"Saved: {filename}\")\n"
   ]
  },
  {
   "attachments": {},
   "cell_type": "markdown",
   "id": "a31a8bd9-912e-4b77-894c-74bba797cdfd",
   "metadata": {},
   "source": [
    "## 1 e) [5%]\n",
    "Delete the original data and the data you generated during the process (apart from 1d)). At the end, only the files for the individual articles should be available (in separate folders)."
   ]
  },
  {
   "cell_type": "code",
   "execution_count": null,
   "id": "4c5ceceb-b054-4557-8a89-0d9b6d1ac59e",
   "metadata": {},
   "outputs": [],
   "source": []
  },
  {
   "cell_type": "markdown",
   "id": "07fe1e5b-805e-40ad-b28a-2d26553ba710",
   "metadata": {},
   "source": [
    "## 1 f) [2.5%]\n",
    "Pack the contents of the entire folder into compressed tar archive."
   ]
  },
  {
   "cell_type": "code",
   "execution_count": null,
   "id": "b6913f38-309c-464c-b5c8-77e2b92ab992",
   "metadata": {},
   "outputs": [],
   "source": []
  },
  {
   "cell_type": "markdown",
   "id": "76f7f642-b851-473a-a90d-5046ede450a2",
   "metadata": {},
   "source": [
    "_________"
   ]
  },
  {
   "attachments": {},
   "cell_type": "markdown",
   "id": "ef3bbe6b-21bd-47a8-9d74-1c13e3453c8d",
   "metadata": {
    "vscode": {
     "languageId": "shellscript"
    }
   },
   "source": [
    "## 2 a) [20%]\n",
    "Write a shell script that reports every x seconds whether a process identified by a PID is running or not.\n",
    "Pass the number of seconds and PID as parameters to the script so that it can be called as follows:\n",
    "\n",
    "```bash\n",
    "$ script [PID][SECONDS]\n",
    "```\n",
    "There are no restrictions on which commands you use for this.\n",
    "\n",
    "**Useful commands:**`grep`,`ps`"
   ]
  },
  {
   "cell_type": "code",
   "execution_count": null,
   "id": "fc5933a7",
   "metadata": {
    "vscode": {
     "languageId": "shellscript"
    }
   },
   "outputs": [],
   "source": []
  },
  {
   "attachments": {},
   "cell_type": "markdown",
   "id": "623c7c5d-0f24-4e65-acf9-499164214986",
   "metadata": {
    "tags": []
   },
   "source": [
    "## 2 b) [20%]\n",
    "Write a shell script that can list the directory structure of a directory specified as a parameter. To do this, write a recursive function that descends into subdirectories.\n",
    "Output the directory and files to the screen.\n",
    "Use indentation to indicate how files and directories belong to each other.\n",
    "This could then look like this, for example:\n",
    "```\n",
    "File: linux-3.14/COPYING\n",
    "File: linux-3.14/CREDITS\n",
    "Directory: linux-3.14/Documentation\n",
    "    File: linux-3.14/Documentation/00-INDEX \n",
    "    Directory: linux-3.14/Documentation/ABI\n",
    "        File: linux-3.14/Documentation/ABI/README \n",
    "        Directory: linux-3.14/Documentation/ABI/obsolete        \n",
    "            File: linux-3.14/Documentation/ABI/obsolete/proc-sys-vm-nr_pdflush_threads \n",
    "            File: linux-3.14/Documentation/ABI/obsolete/sysfs-bus-usb\n",
    "            File: linux-3.14/Documentation/ABI/obsolete/sysfs-class-rfkill\n",
    "            File: linux-3.14/Documentation/ABI/obsolete/sysfs-driver-hid-roccat-koneplus \n",
    "            File: linux-3.14/Documentation/ABI/obsolete/sysfs-driver-hid-roccat-kovaplus \n",
    "            File: linux-3.14/Documentation/ABI/obsolete/sysfs-driver-hid-roccat-pyra\n",
    "        Directory: linux-3.14/Documentation/ABI/removed \n",
    "            File: linux-3.14/Documentation/ABI/removed/devfs \n",
    "            File: linux-3.14/Documentation/ABI/removed/dv1394\n",
    "...\n",
    "\n",
    "```\n",
    "**Note:** it is possible to define functions in bash. You can find the syntax, for example here: http://tldp.org/LDP/abs/html/functions.html\n",
    "\n",
    "**Useful commands:**`find`,`printf`"
   ]
  }
 ],
 "metadata": {
  "kernelspec": {
   "display_name": "Python 3",
   "language": "python",
   "name": "python3"
  },
  "language_info": {
   "codemirror_mode": {
    "name": "ipython",
    "version": 3
   },
   "file_extension": ".py",
   "mimetype": "text/x-python",
   "name": "python",
   "nbconvert_exporter": "python",
   "pygments_lexer": "ipython3",
   "version": "3.12.4"
  }
 },
 "nbformat": 4,
 "nbformat_minor": 5
}
